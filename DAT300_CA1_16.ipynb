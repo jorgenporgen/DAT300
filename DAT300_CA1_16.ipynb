{
 "cells": [
  {
   "cell_type": "markdown",
   "metadata": {},
   "source": [
    "# Compulsory assignment 1 - Using Dask-ml on large data\n",
    "## Group #16\n",
    "### Thomas Moen and Jørgen Kongsro"
   ]
  },
  {
   "cell_type": "code",
   "execution_count": null,
   "metadata": {},
   "outputs": [],
   "source": [
    "%matplotlib notebook\n",
    "\n",
    "import numpy as np\n",
    "import pandas as pd\n",
    "import dask\n",
    "\n",
    "\n",
    "from operator import itemgetter\n",
    "\n",
    "import numpy as np\n",
    "import scipy\n",
    "\n",
    "import dask.dataframe as dd\n",
    "from dask.diagnostics import ProgressBar\n",
    "from matplotlib import pyplot as plt\n"
   ]
  },
  {
   "cell_type": "code",
   "execution_count": 2,
   "metadata": {},
   "outputs": [
    {
     "name": "stdout",
     "output_type": "stream",
     "text": [
      "Requirement already satisfied: kaggle in /Users/jorgenkongsro/anaconda3/lib/python3.7/site-packages (1.5.6)\n",
      "Requirement already satisfied: requests in /Users/jorgenkongsro/anaconda3/lib/python3.7/site-packages (from kaggle) (2.22.0)\n",
      "Requirement already satisfied: urllib3<1.25,>=1.21.1 in /Users/jorgenkongsro/anaconda3/lib/python3.7/site-packages (from kaggle) (1.24.2)\n",
      "Requirement already satisfied: python-dateutil in /Users/jorgenkongsro/anaconda3/lib/python3.7/site-packages (from kaggle) (2.8.0)\n",
      "Requirement already satisfied: python-slugify in /Users/jorgenkongsro/anaconda3/lib/python3.7/site-packages (from kaggle) (3.0.4)\n",
      "Requirement already satisfied: tqdm in /Users/jorgenkongsro/anaconda3/lib/python3.7/site-packages (from kaggle) (4.35.0)\n",
      "Requirement already satisfied: six>=1.10 in /Users/jorgenkongsro/anaconda3/lib/python3.7/site-packages (from kaggle) (1.12.0)\n",
      "Requirement already satisfied: certifi in /Users/jorgenkongsro/anaconda3/lib/python3.7/site-packages (from kaggle) (2019.9.11)\n",
      "Requirement already satisfied: idna<2.9,>=2.5 in /Users/jorgenkongsro/anaconda3/lib/python3.7/site-packages (from requests->kaggle) (2.8)\n",
      "Requirement already satisfied: chardet<3.1.0,>=3.0.2 in /Users/jorgenkongsro/anaconda3/lib/python3.7/site-packages (from requests->kaggle) (3.0.4)\n",
      "Requirement already satisfied: text-unidecode>=1.3 in /Users/jorgenkongsro/anaconda3/lib/python3.7/site-packages (from python-slugify->kaggle) (1.3)\n"
     ]
    }
   ],
   "source": [
    "# Install Kaggle API\n",
    "# How to setup: https://github.com/Kaggle/kaggle-api\n",
    "# or visit: https://adityashrm21.github.io/Setting-Up-Kaggle/\n",
    "\n",
    "!pip install kaggle"
   ]
  },
  {
   "cell_type": "code",
   "execution_count": 4,
   "metadata": {},
   "outputs": [
    {
     "name": "stdout",
     "output_type": "stream",
     "text": [
      "ref                                            deadline             category            reward  teamCount  userHasEntered  \r\n",
      "---------------------------------------------  -------------------  ---------------  ---------  ---------  --------------  \r\n",
      "digit-recognizer                               2030-01-01 00:00:00  Getting Started  Knowledge       2576            True  \r\n",
      "titanic                                        2030-01-01 00:00:00  Getting Started  Knowledge      11305            True  \r\n",
      "house-prices-advanced-regression-techniques    2030-01-01 00:00:00  Getting Started  Knowledge       4654           False  \r\n",
      "imagenet-object-localization-challenge         2029-12-31 07:00:00  Research         Knowledge         51           False  \r\n",
      "competitive-data-science-predict-future-sales  2019-12-31 23:59:00  Playground           Kudos       4322           False  \r\n",
      "Kannada-MNIST                                  2019-12-17 23:59:00  Playground       Knowledge        276           False  \r\n",
      "bigquery-geotab-intersection-congestion        2019-12-12 23:59:00  Playground           Kudos        222           False  \r\n",
      "cat-in-the-dat                                 2019-12-09 23:59:00  Playground            Swag        671           False  \r\n",
      "understanding_cloud_organization               2019-11-18 23:59:00  Research           $10,000        702           False  \r\n",
      "3d-object-detection-for-autonomous-vehicles    2019-11-12 23:59:00  Featured           $25,000        231           False  \r\n",
      "rsna-intracranial-hemorrhage-detection         2019-11-11 23:59:00  Featured           $25,000        771           False  \r\n",
      "severstal-steel-defect-detection               2019-10-24 23:59:00  Featured          $120,000       2042           False  \r\n",
      "kuzushiji-recognition                          2019-10-14 23:59:00  Playground         $15,000        270           False  \r\n",
      "youtube8m-2019                                 2019-10-11 23:59:00  Research           $25,000        283           False  \r\n",
      "ieee-fraud-detection                           2019-10-03 23:59:00  Research           $20,000       6381           False  \r\n",
      "open-images-2019-object-detection              2019-10-01 23:59:00  Research           $25,000        559           False  \r\n",
      "open-images-2019-visual-relationship           2019-10-01 23:59:00  Research           $25,000        201           False  \r\n",
      "open-images-2019-instance-segmentation         2019-10-01 23:59:00  Research           $25,000        193           False  \r\n",
      "recursion-cellular-image-classification        2019-09-26 23:59:00  Research           $13,000        866           False  \r\n",
      "aptos2019-blindness-detection                  2019-09-07 23:59:00  Featured           $50,000       2943           False  \r\n"
     ]
    }
   ],
   "source": [
    "!kaggle competitions DAT300"
   ]
  },
  {
   "cell_type": "code",
   "execution_count": null,
   "metadata": {},
   "outputs": [],
   "source": [
    "def import_data(csv_file):\n",
    "    \"\"\" Returns median of data.\n",
    "\n",
    "    :param data: a .csv separated dataset\n",
    "    :return: a pandas data array, df\n",
    "    \n",
    "    \"\"\"\n",
    "    \n",
    "    df = dd.read_csv(csv_file)\n",
    "    return df"
   ]
  },
  {
   "cell_type": "code",
   "execution_count": null,
   "metadata": {},
   "outputs": [],
   "source": [
    "def inspect_missing_values(data):\n",
    "    \"\"\" Counting missing values in a DataFrame\n",
    "    \n",
    "    :param data: pandas data frame\n",
    "    :return: pandas data frame\n",
    "    \n",
    "    \"\"\"\n",
    "    missing_values = df.isnull().sum()\n",
    "    return missing_values"
   ]
  },
  {
   "cell_type": "code",
   "execution_count": null,
   "metadata": {},
   "outputs": [],
   "source": [
    "def percent_missing_values(data):\n",
    "    \"\"\" Calculate the percent of missing values in the DataFrame\n",
    "    \n",
    "    :param data: pandas data frame\n",
    "    :return: pandas data frame\n",
    "    \n",
    "    \"\"\"\n",
    "    missing_count = ((missing_values / df.index.size) * 100)\n",
    "    return missing_count"
   ]
  },
  {
   "cell_type": "markdown",
   "metadata": {},
   "source": [
    "Running computations with the compute method"
   ]
  },
  {
   "cell_type": "code",
   "execution_count": null,
   "metadata": {},
   "outputs": [],
   "source": [
    "with ProgressBar():\n",
    "    missing_count_pct = missing_count.compute()\n",
    "missing_count_pct"
   ]
  }
 ],
 "metadata": {
  "kernelspec": {
   "display_name": "Python 3",
   "language": "python",
   "name": "python3"
  },
  "language_info": {
   "codemirror_mode": {
    "name": "ipython",
    "version": 3
   },
   "file_extension": ".py",
   "mimetype": "text/x-python",
   "name": "python",
   "nbconvert_exporter": "python",
   "pygments_lexer": "ipython3",
   "version": "3.7.1"
  }
 },
 "nbformat": 4,
 "nbformat_minor": 2
}
