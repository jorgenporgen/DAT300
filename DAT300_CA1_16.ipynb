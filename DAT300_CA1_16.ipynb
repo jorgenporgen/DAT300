{
 "cells": [
  {
   "cell_type": "markdown",
   "metadata": {},
   "source": [
    "# Compulsory assignment 1 - Using Dask-ml on large data\n",
    "## Group #16\n",
    "### Thomas Moen and Jørgen Kongsro"
   ]
  },
  {
   "cell_type": "code",
   "execution_count": 1,
   "metadata": {},
   "outputs": [],
   "source": [
    "%matplotlib notebook\n",
    "\n",
    "\n",
    "import numpy as np\n",
    "import pandas as pd\n",
    "import dask\n",
    "import os\n",
    "\n",
    "\n",
    "from operator import itemgetter\n",
    "\n",
    "import numpy as np\n",
    "import scipy\n",
    "\n",
    "import dask.dataframe as dd\n",
    "from dask.diagnostics import ProgressBar\n",
    "\n",
    "import matplotlib.pyplot as plt\n",
    "import skimage.io\n"
   ]
  },
  {
   "cell_type": "code",
   "execution_count": null,
   "metadata": {},
   "outputs": [],
   "source": [
    "# Install Kaggle API\n",
    "# How to setup: https://github.com/Kaggle/kaggle-api\n",
    "# or visit: https://adityashrm21.github.io/Setting-Up-Kaggle/\n",
    "\n",
    "#!pip install kaggle"
   ]
  },
  {
   "cell_type": "code",
   "execution_count": null,
   "metadata": {},
   "outputs": [],
   "source": [
    "# Download Kaggle data using Kaggle API\n",
    "#!kaggle competitions download -c dat300-ca1-autumn-2019\n"
   ]
  },
  {
   "cell_type": "code",
   "execution_count": null,
   "metadata": {},
   "outputs": [],
   "source": [
    "# Unzip Kaggle data\n",
    "#!unzip \"dat300-ca1-autumn-2019.zip\" -d \"/tmp/whatever\""
   ]
  },
  {
   "cell_type": "code",
   "execution_count": 2,
   "metadata": {},
   "outputs": [
    {
     "data": {
      "text/plain": [
       "['y_test_sampleSubmission.csv', 'X_train.csv', 'y_train.csv', 'X_test.csv']"
      ]
     },
     "execution_count": 2,
     "metadata": {},
     "output_type": "execute_result"
    }
   ],
   "source": [
    "# List files in directory\n",
    "\n",
    "if os.name == 'nt':\n",
    "    workdir = 'C://Users//thomoe//Documents//myDAT300//dat300-ca1-autumn-2019//'\n",
    "elif os.name == 'posix':\n",
    "    workdir = '/Users/jorgenkongsro/Downloads/dat300-ca1-autumn-2019/'\n",
    "    \n",
    "os.listdir(workdir)\n"
   ]
  },
  {
   "cell_type": "code",
   "execution_count": 17,
   "metadata": {},
   "outputs": [
    {
     "data": {
      "text/html": [
       "<div>\n",
       "<style scoped>\n",
       "    .dataframe tbody tr th:only-of-type {\n",
       "        vertical-align: middle;\n",
       "    }\n",
       "\n",
       "    .dataframe tbody tr th {\n",
       "        vertical-align: top;\n",
       "    }\n",
       "\n",
       "    .dataframe thead th {\n",
       "        text-align: right;\n",
       "    }\n",
       "</style>\n",
       "<table border=\"1\" class=\"dataframe\">\n",
       "  <thead>\n",
       "    <tr style=\"text-align: right;\">\n",
       "      <th></th>\n",
       "      <th>f1</th>\n",
       "      <th>f2</th>\n",
       "      <th>f3</th>\n",
       "      <th>f4</th>\n",
       "      <th>f5</th>\n",
       "      <th>f6</th>\n",
       "      <th>f7</th>\n",
       "      <th>f8</th>\n",
       "      <th>f9</th>\n",
       "      <th>f10</th>\n",
       "      <th>...</th>\n",
       "      <th>f153</th>\n",
       "      <th>f154</th>\n",
       "      <th>f155</th>\n",
       "      <th>f156</th>\n",
       "      <th>f157</th>\n",
       "      <th>f158</th>\n",
       "      <th>f159</th>\n",
       "      <th>f160</th>\n",
       "      <th>f161</th>\n",
       "      <th>f162</th>\n",
       "    </tr>\n",
       "  </thead>\n",
       "  <tbody>\n",
       "    <tr>\n",
       "      <th>0</th>\n",
       "      <td>0.650080</td>\n",
       "      <td>0.307440</td>\n",
       "      <td>0.306270</td>\n",
       "      <td>0.186580</td>\n",
       "      <td>0.179110</td>\n",
       "      <td>0.178230</td>\n",
       "      <td>0.174430</td>\n",
       "      <td>0.151130</td>\n",
       "      <td>0.139410</td>\n",
       "      <td>1.83790</td>\n",
       "      <td>...</td>\n",
       "      <td>0.130790</td>\n",
       "      <td>0.119300</td>\n",
       "      <td>0.119300</td>\n",
       "      <td>0.119300</td>\n",
       "      <td>0.119300</td>\n",
       "      <td>0.119300</td>\n",
       "      <td>0.119300</td>\n",
       "      <td>0.119300</td>\n",
       "      <td>0.119300</td>\n",
       "      <td>0.119300</td>\n",
       "    </tr>\n",
       "    <tr>\n",
       "      <th>1</th>\n",
       "      <td>0.098689</td>\n",
       "      <td>0.090486</td>\n",
       "      <td>0.063531</td>\n",
       "      <td>0.050347</td>\n",
       "      <td>0.049322</td>\n",
       "      <td>0.039360</td>\n",
       "      <td>0.007132</td>\n",
       "      <td>-0.016892</td>\n",
       "      <td>-0.022459</td>\n",
       "      <td>-0.31062</td>\n",
       "      <td>...</td>\n",
       "      <td>-0.038232</td>\n",
       "      <td>0.040767</td>\n",
       "      <td>0.040767</td>\n",
       "      <td>0.040767</td>\n",
       "      <td>-0.003073</td>\n",
       "      <td>-0.003073</td>\n",
       "      <td>-0.003073</td>\n",
       "      <td>-0.003073</td>\n",
       "      <td>-0.003073</td>\n",
       "      <td>-0.003073</td>\n",
       "    </tr>\n",
       "    <tr>\n",
       "      <th>2</th>\n",
       "      <td>0.079645</td>\n",
       "      <td>0.074518</td>\n",
       "      <td>0.071149</td>\n",
       "      <td>0.052691</td>\n",
       "      <td>0.039653</td>\n",
       "      <td>0.039214</td>\n",
       "      <td>0.037016</td>\n",
       "      <td>0.029252</td>\n",
       "      <td>0.010062</td>\n",
       "      <td>-0.34840</td>\n",
       "      <td>...</td>\n",
       "      <td>-0.038232</td>\n",
       "      <td>0.040767</td>\n",
       "      <td>0.040767</td>\n",
       "      <td>0.040767</td>\n",
       "      <td>0.040767</td>\n",
       "      <td>0.040767</td>\n",
       "      <td>0.040767</td>\n",
       "      <td>0.040767</td>\n",
       "      <td>0.040767</td>\n",
       "      <td>0.040767</td>\n",
       "    </tr>\n",
       "    <tr>\n",
       "      <th>3</th>\n",
       "      <td>0.148200</td>\n",
       "      <td>0.101180</td>\n",
       "      <td>0.091218</td>\n",
       "      <td>0.090486</td>\n",
       "      <td>0.051666</td>\n",
       "      <td>0.038042</td>\n",
       "      <td>0.021781</td>\n",
       "      <td>0.006546</td>\n",
       "      <td>-0.008835</td>\n",
       "      <td>-0.28662</td>\n",
       "      <td>...</td>\n",
       "      <td>0.066729</td>\n",
       "      <td>0.051966</td>\n",
       "      <td>0.051966</td>\n",
       "      <td>0.051966</td>\n",
       "      <td>0.051966</td>\n",
       "      <td>0.051966</td>\n",
       "      <td>0.051966</td>\n",
       "      <td>0.051966</td>\n",
       "      <td>0.051966</td>\n",
       "      <td>0.051966</td>\n",
       "    </tr>\n",
       "    <tr>\n",
       "      <th>4</th>\n",
       "      <td>0.148200</td>\n",
       "      <td>0.101180</td>\n",
       "      <td>0.091218</td>\n",
       "      <td>0.089167</td>\n",
       "      <td>0.051666</td>\n",
       "      <td>0.043755</td>\n",
       "      <td>0.040093</td>\n",
       "      <td>0.021781</td>\n",
       "      <td>0.006546</td>\n",
       "      <td>-0.38027</td>\n",
       "      <td>...</td>\n",
       "      <td>0.066729</td>\n",
       "      <td>0.051966</td>\n",
       "      <td>0.051966</td>\n",
       "      <td>0.051966</td>\n",
       "      <td>0.051966</td>\n",
       "      <td>0.051966</td>\n",
       "      <td>0.051966</td>\n",
       "      <td>0.051966</td>\n",
       "      <td>0.051966</td>\n",
       "      <td>0.051966</td>\n",
       "    </tr>\n",
       "  </tbody>\n",
       "</table>\n",
       "<p>5 rows × 162 columns</p>\n",
       "</div>"
      ],
      "text/plain": [
       "         f1        f2        f3        f4        f5        f6        f7  \\\n",
       "0  0.650080  0.307440  0.306270  0.186580  0.179110  0.178230  0.174430   \n",
       "1  0.098689  0.090486  0.063531  0.050347  0.049322  0.039360  0.007132   \n",
       "2  0.079645  0.074518  0.071149  0.052691  0.039653  0.039214  0.037016   \n",
       "3  0.148200  0.101180  0.091218  0.090486  0.051666  0.038042  0.021781   \n",
       "4  0.148200  0.101180  0.091218  0.089167  0.051666  0.043755  0.040093   \n",
       "\n",
       "         f8        f9      f10  ...      f153      f154      f155      f156  \\\n",
       "0  0.151130  0.139410  1.83790  ...  0.130790  0.119300  0.119300  0.119300   \n",
       "1 -0.016892 -0.022459 -0.31062  ... -0.038232  0.040767  0.040767  0.040767   \n",
       "2  0.029252  0.010062 -0.34840  ... -0.038232  0.040767  0.040767  0.040767   \n",
       "3  0.006546 -0.008835 -0.28662  ...  0.066729  0.051966  0.051966  0.051966   \n",
       "4  0.021781  0.006546 -0.38027  ...  0.066729  0.051966  0.051966  0.051966   \n",
       "\n",
       "       f157      f158      f159      f160      f161      f162  \n",
       "0  0.119300  0.119300  0.119300  0.119300  0.119300  0.119300  \n",
       "1 -0.003073 -0.003073 -0.003073 -0.003073 -0.003073 -0.003073  \n",
       "2  0.040767  0.040767  0.040767  0.040767  0.040767  0.040767  \n",
       "3  0.051966  0.051966  0.051966  0.051966  0.051966  0.051966  \n",
       "4  0.051966  0.051966  0.051966  0.051966  0.051966  0.051966  \n",
       "\n",
       "[5 rows x 162 columns]"
      ]
     },
     "execution_count": 17,
     "metadata": {},
     "output_type": "execute_result"
    }
   ],
   "source": [
    "def import_data(csv_file):\n",
    "    \"\"\" Import data from csv file\n",
    "\n",
    "    :param data: a .csv separated dataset\n",
    "    :return: a pandas data array, df\n",
    "    \n",
    "    \"\"\"\n",
    "    \n",
    "    \n",
    "    df = dd.read_csv(csv_file)\n",
    "    return df\n",
    "\n",
    "x_train_df = import_data(workdir + 'X_train.csv')\n",
    "x_test_df = import_data(workdir + 'X_test.csv')\n",
    "y_train_df = import_data(workdir + 'y_train.csv')\n",
    "\n",
    "x_train_df.head()"
   ]
  },
  {
   "cell_type": "code",
   "execution_count": null,
   "metadata": {},
   "outputs": [],
   "source": [
    "def check_for_missing(dataframe):\n",
    "    \"\"\" Check for missing values in dataframe\n",
    "    :param data: dataframe\n",
    "    :return: dataframe\n",
    "    \n",
    "    \"\"\"\n",
    "    missing_values = nyc_data_raw.isnull().sum()\n",
    "    \n",
    "    with ProgressBar():\n",
    "        percent_missing = ((missing_values / nyc_data_raw.index.size) * 100).compute()\n",
    "        \n",
    "    return percent_missing"
   ]
  },
  {
   "cell_type": "code",
   "execution_count": 20,
   "metadata": {},
   "outputs": [],
   "source": [
    "def nan_filter(dataframe):\n",
    "    \"\"\" Filter out NaN\n",
    "    :param data: dataframe\n",
    "    :return: dataframe\n",
    "    \n",
    "    \"\"\"\n",
    "    filtered = dataframe.dropna(how='all', subset=None, thresh=None).compute()\n",
    "\n",
    "    return filtered\n",
    "\n"
   ]
  },
  {
   "cell_type": "code",
   "execution_count": null,
   "metadata": {},
   "outputs": [],
   "source": [
    "# Print the size of a feature\n",
    "print (x_train_df.count().compute())\n"
   ]
  },
  {
   "cell_type": "code",
   "execution_count": null,
   "metadata": {},
   "outputs": [],
   "source": []
  },
  {
   "cell_type": "code",
   "execution_count": null,
   "metadata": {},
   "outputs": [],
   "source": [
    "# View image data\n",
    "\n",
    "plt.figure(figsize=(10, 10))\n",
    "skimage.io.imshow()"
   ]
  },
  {
   "cell_type": "code",
   "execution_count": null,
   "metadata": {},
   "outputs": [],
   "source": [
    "def percent_missing_values(data):\n",
    "    \"\"\" Calculate the percent of missing values in the DataFrame\n",
    "    \n",
    "    :param data: pandas data frame\n",
    "    :return: pandas data frame\n",
    "    \n",
    "    \"\"\"\n",
    "    missing_count = ((missing_values / df.index.size) * 100)\n",
    "    return missing_count"
   ]
  },
  {
   "cell_type": "markdown",
   "metadata": {},
   "source": [
    "Running computations with the compute method"
   ]
  },
  {
   "cell_type": "code",
   "execution_count": null,
   "metadata": {},
   "outputs": [],
   "source": [
    "def get_n_images(df):\n",
    "    \n",
    "    return len(df) - 1\n",
    "\n",
    "nrows = get_n_images(xtrain_df)\n",
    "print(nrows/8000)\n"
   ]
  },
  {
   "cell_type": "code",
   "execution_count": null,
   "metadata": {},
   "outputs": [],
   "source": [
    "with ProgressBar():\n",
    "    missing_count_pct = missing_count.compute()\n",
    "missing_count_pct"
   ]
  },
  {
   "cell_type": "code",
   "execution_count": null,
   "metadata": {},
   "outputs": [],
   "source": [
    "# Build model and train\n",
    "\n",
    "from sklearn.naive_bayes import BernoulliNB, MultinomialNB\n",
    "from dask.diagnostics import ProgressBar\n",
    "\n",
    "bern = BernoulliNB()\n",
    "with ProgressBar():\n",
    "    bern.fit(x_train_df, y_train_df)"
   ]
  }
 ],
 "metadata": {
  "kernelspec": {
   "display_name": "Python 3",
   "language": "python",
   "name": "python3"
  },
  "language_info": {
   "codemirror_mode": {
    "name": "ipython",
    "version": 3
   },
   "file_extension": ".py",
   "mimetype": "text/x-python",
   "name": "python",
   "nbconvert_exporter": "python",
   "pygments_lexer": "ipython3",
   "version": "3.7.3"
  }
 },
 "nbformat": 4,
 "nbformat_minor": 2
}
