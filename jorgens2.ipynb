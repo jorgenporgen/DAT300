{
 "cells": [
  {
   "cell_type": "markdown",
   "metadata": {},
   "source": [
    "### Setup dask for machine learning"
   ]
  },
  {
   "cell_type": "code",
   "execution_count": null,
   "metadata": {},
   "outputs": [],
   "source": [
    "%matplotlib inline"
   ]
  },
  {
   "cell_type": "code",
   "execution_count": null,
   "metadata": {},
   "outputs": [],
   "source": [
    "import dask_ml.datasets\n",
    "import dask_ml.cluster\n",
    "import matplotlib.pyplot as plt\n",
    "import dask.array as da \n",
    "from dask_ml.datasets import make_classification\n",
    "import pandas as pd"
   ]
  },
  {
   "cell_type": "code",
   "execution_count": 1,
   "metadata": {},
   "outputs": [
    {
     "data": {
      "text/html": [
       "<table>\n",
       "<tr>\n",
       "<td>\n",
       "<table>  <thead>    <tr><td> </td><th> Array </th><th> Chunk </th></tr>\n",
       "  </thead>\n",
       "  <tbody>\n",
       "    <tr><th> Bytes </th><td> 4.54 MB </td> <td> 453.60 kB </td></tr>\n",
       "    <tr><th> Shape </th><td> (3500, 162) </td> <td> (350, 162) </td></tr>\n",
       "    <tr><th> Count </th><td> 10 Tasks </td><td> 10 Chunks </td></tr>\n",
       "    <tr><th> Type </th><td> float64 </td><td> numpy.ndarray </td></tr>\n",
       "  </tbody></table>\n",
       "</td>\n",
       "<td>\n",
       "<svg width=\"84\" height=\"170\" style=\"stroke:rgb(0,0,0);stroke-width:1\" >\n",
       "\n",
       "  <!-- Horizontal lines -->\n",
       "  <line x1=\"0\" y1=\"0\" x2=\"34\" y2=\"0\" style=\"stroke-width:2\" />\n",
       "  <line x1=\"0\" y1=\"12\" x2=\"34\" y2=\"12\" />\n",
       "  <line x1=\"0\" y1=\"24\" x2=\"34\" y2=\"24\" />\n",
       "  <line x1=\"0\" y1=\"36\" x2=\"34\" y2=\"36\" />\n",
       "  <line x1=\"0\" y1=\"48\" x2=\"34\" y2=\"48\" />\n",
       "  <line x1=\"0\" y1=\"60\" x2=\"34\" y2=\"60\" />\n",
       "  <line x1=\"0\" y1=\"72\" x2=\"34\" y2=\"72\" />\n",
       "  <line x1=\"0\" y1=\"84\" x2=\"34\" y2=\"84\" />\n",
       "  <line x1=\"0\" y1=\"96\" x2=\"34\" y2=\"96\" />\n",
       "  <line x1=\"0\" y1=\"108\" x2=\"34\" y2=\"108\" />\n",
       "  <line x1=\"0\" y1=\"120\" x2=\"34\" y2=\"120\" style=\"stroke-width:2\" />\n",
       "\n",
       "  <!-- Vertical lines -->\n",
       "  <line x1=\"0\" y1=\"0\" x2=\"0\" y2=\"120\" style=\"stroke-width:2\" />\n",
       "  <line x1=\"34\" y1=\"0\" x2=\"34\" y2=\"120\" style=\"stroke-width:2\" />\n",
       "\n",
       "  <!-- Colored Rectangle -->\n",
       "  <polygon points=\"0.000000,0.000000 34.028018,0.000000 34.028018,120.000000 0.000000,120.000000\" style=\"fill:#ECB172A0;stroke-width:0\"/>\n",
       "\n",
       "  <!-- Text -->\n",
       "  <text x=\"17.014009\" y=\"140.000000\" font-size=\"1.0rem\" font-weight=\"100\" text-anchor=\"middle\" >162</text>\n",
       "  <text x=\"54.028018\" y=\"60.000000\" font-size=\"1.0rem\" font-weight=\"100\" text-anchor=\"middle\" transform=\"rotate(-90,54.028018,60.000000)\">3500</text>\n",
       "</svg>\n",
       "</td>\n",
       "</tr>\n",
       "</table>"
      ],
      "text/plain": [
       "dask.array<normal, shape=(3500, 162), dtype=float64, chunksize=(350, 162)>"
      ]
     },
     "execution_count": 1,
     "metadata": {},
     "output_type": "execute_result"
    }
   ],
   "source": [
    "# Create random data\n",
    "import dask\n",
    "import dask.array as da\n",
    "from dask_ml.datasets import make_classification\n",
    "\n",
    "\n",
    "n, d = 3500, 162\n",
    "\n",
    "X, y = make_classification(n_samples=n, n_features=d,\n",
    "                           chunks=n // 10, flip_y=0.2)\n",
    "X\n",
    "X = X.persist()\n",
    "X"
   ]
  },
  {
   "cell_type": "code",
   "execution_count": 2,
   "metadata": {},
   "outputs": [
    {
     "data": {
      "text/html": [
       "<table>\n",
       "<tr>\n",
       "<td>\n",
       "<table>  <thead>    <tr><td> </td><th> Array </th><th> Chunk </th></tr>\n",
       "  </thead>\n",
       "  <tbody>\n",
       "    <tr><th> Bytes </th><td> 4.08 MB </td> <td> 408.24 kB </td></tr>\n",
       "    <tr><th> Shape </th><td> (3150, 162) </td> <td> (315, 162) </td></tr>\n",
       "    <tr><th> Count </th><td> 70 Tasks </td><td> 10 Chunks </td></tr>\n",
       "    <tr><th> Type </th><td> float64 </td><td> numpy.ndarray </td></tr>\n",
       "  </tbody></table>\n",
       "</td>\n",
       "<td>\n",
       "<svg width=\"84\" height=\"170\" style=\"stroke:rgb(0,0,0);stroke-width:1\" >\n",
       "\n",
       "  <!-- Horizontal lines -->\n",
       "  <line x1=\"0\" y1=\"0\" x2=\"34\" y2=\"0\" style=\"stroke-width:2\" />\n",
       "  <line x1=\"0\" y1=\"12\" x2=\"34\" y2=\"12\" />\n",
       "  <line x1=\"0\" y1=\"24\" x2=\"34\" y2=\"24\" />\n",
       "  <line x1=\"0\" y1=\"36\" x2=\"34\" y2=\"36\" />\n",
       "  <line x1=\"0\" y1=\"48\" x2=\"34\" y2=\"48\" />\n",
       "  <line x1=\"0\" y1=\"60\" x2=\"34\" y2=\"60\" />\n",
       "  <line x1=\"0\" y1=\"72\" x2=\"34\" y2=\"72\" />\n",
       "  <line x1=\"0\" y1=\"84\" x2=\"34\" y2=\"84\" />\n",
       "  <line x1=\"0\" y1=\"96\" x2=\"34\" y2=\"96\" />\n",
       "  <line x1=\"0\" y1=\"108\" x2=\"34\" y2=\"108\" />\n",
       "  <line x1=\"0\" y1=\"120\" x2=\"34\" y2=\"120\" style=\"stroke-width:2\" />\n",
       "\n",
       "  <!-- Vertical lines -->\n",
       "  <line x1=\"0\" y1=\"0\" x2=\"0\" y2=\"120\" style=\"stroke-width:2\" />\n",
       "  <line x1=\"34\" y1=\"0\" x2=\"34\" y2=\"120\" style=\"stroke-width:2\" />\n",
       "\n",
       "  <!-- Colored Rectangle -->\n",
       "  <polygon points=\"0.000000,0.000000 34.673433,0.000000 34.673433,120.000000 0.000000,120.000000\" style=\"fill:#ECB172A0;stroke-width:0\"/>\n",
       "\n",
       "  <!-- Text -->\n",
       "  <text x=\"17.336717\" y=\"140.000000\" font-size=\"1.0rem\" font-weight=\"100\" text-anchor=\"middle\" >162</text>\n",
       "  <text x=\"54.673433\" y=\"60.000000\" font-size=\"1.0rem\" font-weight=\"100\" text-anchor=\"middle\" transform=\"rotate(-90,54.673433,60.000000)\">3150</text>\n",
       "</svg>\n",
       "</td>\n",
       "</tr>\n",
       "</table>"
      ],
      "text/plain": [
       "dask.array<concatenate, shape=(3150, 162), dtype=float64, chunksize=(315, 162)>"
      ]
     },
     "execution_count": 2,
     "metadata": {},
     "output_type": "execute_result"
    }
   ],
   "source": [
    "# Split data\n",
    "from dask_ml.model_selection import train_test_split\n",
    "X_train, X_test, y_train, y_test = train_test_split(X, y)\n",
    "\n",
    "X_train"
   ]
  },
  {
   "cell_type": "code",
   "execution_count": 54,
   "metadata": {},
   "outputs": [
    {
     "name": "stdout",
     "output_type": "stream",
     "text": [
      "AUC_lr: 0.568\n",
      "F1_lr: 0.582\n"
     ]
    }
   ],
   "source": [
    "# Compute the AUC, F1 and confusion matrix for your best model on the training data\n",
    "\n",
    "from dask_ml.linear_model import LogisticRegression\n",
    "from dask_ml.metrics import accuracy_score\n",
    "from sklearn.metrics import f1_score\n",
    "from sklearn.metrics import confusion_matrix\n",
    "\n",
    "# Logistic regression\n",
    "lr = LogisticRegression()\n",
    "lr.fit(X_train,y_train)\n",
    "y_true = y_test\n",
    "y_pred_lr = lr.predict(X_test)\n",
    "accuracy_score(y_true, y_pred_lr)\n",
    "\n",
    "from sklearn import metrics\n",
    "fpr, tpr, thresholds = metrics.roc_curve(y_test, y_pred_lr)\n",
    "print('AUC_lr: %.3f' % metrics.auc(fpr, tpr))\n",
    "print('F1_lr: %.3f' % f1_score(y_true, y_pred_lr))\n",
    "\n",
    "\n"
   ]
  },
  {
   "cell_type": "code",
   "execution_count": 59,
   "metadata": {},
   "outputs": [
    {
     "name": "stdout",
     "output_type": "stream",
     "text": [
      "[[ 99  73]\n",
      " [ 73 105]]\n"
     ]
    },
    {
     "data": {
      "image/png": "[encoded data removed]",
      "text/plain": [
       "<Figure size 180x180 with 1 Axes>"
      ]
     },
     "metadata": {
      "needs_background": "light"
     },
     "output_type": "display_data"
    }
   ],
   "source": [
    "# Confusion matrix test\n",
    "import matplotlib.pyplot as plt\n",
    "\n",
    "confmat_test = confusion_matrix(y_true=y_test, y_pred=y_pred)\n",
    "print(confmat_test)\n",
    "\n",
    "fig, ax = plt.subplots(figsize=(2.5, 2.5))\n",
    "ax.matshow(confmat_test, cmap=plt.cm.Blues, alpha=0.3)\n",
    "for i in range(confmat_test.shape[0]):\n",
    "    for j in range(confmat_test.shape[1]):\n",
    "        ax.text(x=j, y=i, s=confmat_test[i, j], va='center', ha='center')\n",
    "\n",
    "plt.xlabel('Predicted label')\n",
    "plt.ylabel('True label')\n",
    "\n",
    "plt.tight_layout()\n",
    "plt.show()"
   ]
  },
  {
   "cell_type": "code",
   "execution_count": 60,
   "metadata": {},
   "outputs": [
    {
     "data": {
      "image/png": "[encoded data removed]",
      "text/plain": [
       "<Figure size 432x288 with 1 Axes>"
      ]
     },
     "metadata": {
      "needs_background": "light"
     },
     "output_type": "display_data"
    }
   ],
   "source": [
    "# Plot the ROC for your best model on the training data\n",
    "# Compute ROC curve and ROC area for each class\n",
    "\n",
    "roc_auc=metrics.auc(fpr, tpr)\n",
    "plt.figure()\n",
    "lw = 2\n",
    "plt.plot(fpr, tpr, color='darkorange',\n",
    "         lw=lw, label='ROC curve (area = %0.2f)' % roc_auc)\n",
    "plt.plot([0, 1], [0, 1], color='navy', lw=lw, linestyle='--')\n",
    "plt.xlim([0.0, 1.0])\n",
    "plt.ylim([0.0, 1.05])\n",
    "plt.xlabel('False Positive Rate')\n",
    "plt.ylabel('True Positive Rate')\n",
    "plt.title('Receiver operating characteristic example')\n",
    "plt.legend(loc=\"lower right\")\n",
    "plt.show()"
   ]
  },
  {
   "cell_type": "code",
   "execution_count": null,
   "metadata": {},
   "outputs": [],
   "source": [
    "# What are the dimensions of your training and test data? \n",
    "print(X_train.shape)\n",
    "print(X_test.shape)\n",
    "\n"
   ]
  },
  {
   "cell_type": "markdown",
   "metadata": {},
   "source": [
    "### Why do we use F1 (Dice) as the scoring metric in Kaggle and not accuracy? \n",
    "\n",
    "#### Answer: F1 Score is needed when you want to seek a balance between Precision and Recall.  F1 Score might be a better measure to use if we need to seek a balance between Precision and Recall AND there is an uneven class distribution (large number of Actual Negatives) (https://towardsdatascience.com/accuracy-precision-recall-or-f1-331fb37c5cb9). In our case, we have an uneven class distribution since most of the classes in the target at acutal negatives (0) or healthy vs. cancer (1)\n"
   ]
  },
  {
   "cell_type": "code",
   "execution_count": null,
   "metadata": {},
   "outputs": [],
   "source": [
    "from sklearn.pipeline import make_pipeline\n",
    "from sklearn.model_selection import GridSearchCV\n",
    "from sklearn.svm import SVC\n",
    "from sklearn.preprocessing import StandardScaler\n",
    "\n",
    "# Define the pipeline (with scaling and classification method):\n",
    "pipe_svc = make_pipeline(StandardScaler(), SVC(random_state=1))\n",
    "\n",
    "# Define ranges of parameter values:\n",
    "C_range  = [0.1, 1.0, 10.0, 100.0, 1000.0,10000] # For regularization parameter C (margin).\n",
    "G_range2 = [0.00001,0.0001, 0.001, 0.01, 0.1] # For scaling parameter gamma (in rbf-kernel - radius).\n",
    "\n",
    "# Define the grid structure:\n",
    "param_grid   = [{'svc__C': C_range, 'svc__kernel': ['linear']},\n",
    "                {'svc__C': C_range, 'svc__gamma': G_range2, 'svc__kernel': ['rbf']}]\n",
    "\n",
    "# Define grid seach on the hyperparameters (C, gamma & choice of kernel) \n",
    "# provided by the pipline, grid structure and specified CV strategy:\n",
    "gs = GridSearchCV(estimator=pipe_svc, \n",
    "                  param_grid=param_grid, \n",
    "                  scoring='accuracy', \n",
    "                  cv=10,\n",
    "                  n_jobs=-1)\n",
    "print(gs)"
   ]
  },
  {
   "cell_type": "code",
   "execution_count": null,
   "metadata": {},
   "outputs": [],
   "source": [
    "gs = gs.fit(X_train, y_train)\n",
    "print(gs.best_score_)\n",
    "print(gs.best_params_)"
   ]
  },
  {
   "cell_type": "code",
   "execution_count": null,
   "metadata": {},
   "outputs": [],
   "source": [
    "clf = gs.best_estimator_\n",
    "print(clf)\n",
    "clf.fit(X_train, y_train)\n",
    "print('Test accuracy: %.3f' % clf.score(X_test, y_test))"
   ]
  },
  {
   "cell_type": "code",
   "execution_count": null,
   "metadata": {},
   "outputs": [],
   "source": [
    "# Confusion matrix for test and train\n",
    "\n",
    "from sklearn.metrics import confusion_matrix\n",
    "\n",
    "#pipe_svc.fit(X_train, y_train)\n",
    "#y_pred  = pipe_svc.predict(X_test)  # Predictins of test data \n",
    "#y_fit   = pipe_svc.predict(X_train) # Predictins (fitted values) of training data\n",
    "\n",
    "clf     = pipe_svc.fit(X_train, y_train)\n",
    "print('Train accuracy: %.3f' % clf.score(X_train, y_train))\n",
    "print('Test accuracy: %.3f' % clf.score(X_test, y_test))\n",
    "\n",
    "y_pred  = clf.predict(X_test)  # Predictions of test data \n",
    "y_fit   = clf.predict(X_train) # Predictions (fitted values) of training data\n",
    "\n",
    "confmat_test = confusion_matrix(y_true=y_test, y_pred=y_pred)\n",
    "print(confmat_test)\n",
    "\n",
    "fig, ax = plt.subplots(figsize=(2.5, 2.5))\n",
    "ax.matshow(confmat_test, cmap=plt.cm.Blues, alpha=0.3)\n",
    "for i in range(confmat_test.shape[0]):\n",
    "    for j in range(confmat_test.shape[1]):\n",
    "        ax.text(x=j, y=i, s=confmat_test[i, j], va='center', ha='center')\n",
    "\n",
    "plt.xlabel('Predicted label')\n",
    "plt.ylabel('True label')\n",
    "\n",
    "plt.tight_layout()\n",
    "#plt.savefig('images/06_09.png', dpi=300)\n",
    "plt.show()\n",
    "\n",
    "\n",
    "confmat_train = confusion_matrix(y_true=y_train, y_pred=y_fit)\n",
    "print(confmat_train)\n",
    "\n",
    "fig, ax = plt.subplots(figsize=(2.5, 2.5))\n",
    "ax.matshow(confmat_train, cmap=plt.cm.Blues, alpha=0.3)\n",
    "for i in range(confmat_train.shape[0]):\n",
    "    for j in range(confmat_train.shape[1]):\n",
    "        ax.text(x=j, y=i, s=confmat_train[i, j], va='center', ha='center')\n",
    "\n",
    "plt.xlabel('Predicted label')\n",
    "plt.ylabel('True label')\n",
    "\n",
    "plt.tight_layout()\n",
    "plt.show()"
   ]
  },
  {
   "cell_type": "code",
   "execution_count": null,
   "metadata": {},
   "outputs": [],
   "source": [
    "from sklearn import metrics\n",
    "fpr, tpr, thresholds = metrics.roc_curve(y_test, y_pred)\n",
    "metrics.auc(fpr, tpr)\n"
   ]
  }
 ],
 "metadata": {
  "kernelspec": {
   "display_name": "Python 3",
   "language": "python",
   "name": "python3"
  },
  "language_info": {
   "codemirror_mode": {
    "name": "ipython",
    "version": 3
   },
   "file_extension": ".py",
   "mimetype": "text/x-python",
   "name": "python",
   "nbconvert_exporter": "python",
   "pygments_lexer": "ipython3",
   "version": "3.7.3"
  }
 },
 "nbformat": 4,
 "nbformat_minor": 4
}
