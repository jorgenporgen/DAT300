{
 "cells": [
  {
   "cell_type": "markdown",
   "metadata": {},
   "source": [
    "### Setup dask for machine learning"
   ]
  },
  {
   "cell_type": "code",
   "execution_count": null,
   "metadata": {},
   "outputs": [],
   "source": [
    "%matplotlib inline"
   ]
  },
  {
   "cell_type": "code",
   "execution_count": 1,
   "metadata": {},
   "outputs": [],
   "source": [
    "import dask_ml.datasets\n",
    "import dask_ml.cluster\n",
    "import matplotlib.pyplot as plt\n",
    "import dask.array as da \n",
    "from dask_ml.datasets import make_classification\n",
    "import pandas as pd"
   ]
  },
  {
   "cell_type": "code",
   "execution_count": 2,
   "metadata": {},
   "outputs": [
    {
     "data": {
      "text/html": [
       "<table>\n",
       "<tr>\n",
       "<td>\n",
       "<table>  <thead>    <tr><td> </td><th> Array </th><th> Chunk </th></tr>\n",
       "  </thead>\n",
       "  <tbody>\n",
       "    <tr><th> Bytes </th><td> 8.00 kB </td> <td> 800 B </td></tr>\n",
       "    <tr><th> Shape </th><td> (100, 10) </td> <td> (10, 10) </td></tr>\n",
       "    <tr><th> Count </th><td> 10 Tasks </td><td> 10 Chunks </td></tr>\n",
       "    <tr><th> Type </th><td> float64 </td><td> numpy.ndarray </td></tr>\n",
       "  </tbody></table>\n",
       "</td>\n",
       "<td>\n",
       "<svg width=\"88\" height=\"170\" style=\"stroke:rgb(0,0,0);stroke-width:1\" >\n",
       "\n",
       "  <!-- Horizontal lines -->\n",
       "  <line x1=\"0\" y1=\"0\" x2=\"38\" y2=\"0\" style=\"stroke-width:2\" />\n",
       "  <line x1=\"0\" y1=\"12\" x2=\"38\" y2=\"12\" />\n",
       "  <line x1=\"0\" y1=\"24\" x2=\"38\" y2=\"24\" />\n",
       "  <line x1=\"0\" y1=\"36\" x2=\"38\" y2=\"36\" />\n",
       "  <line x1=\"0\" y1=\"48\" x2=\"38\" y2=\"48\" />\n",
       "  <line x1=\"0\" y1=\"60\" x2=\"38\" y2=\"60\" />\n",
       "  <line x1=\"0\" y1=\"72\" x2=\"38\" y2=\"72\" />\n",
       "  <line x1=\"0\" y1=\"84\" x2=\"38\" y2=\"84\" />\n",
       "  <line x1=\"0\" y1=\"96\" x2=\"38\" y2=\"96\" />\n",
       "  <line x1=\"0\" y1=\"108\" x2=\"38\" y2=\"108\" />\n",
       "  <line x1=\"0\" y1=\"120\" x2=\"38\" y2=\"120\" style=\"stroke-width:2\" />\n",
       "\n",
       "  <!-- Vertical lines -->\n",
       "  <line x1=\"0\" y1=\"0\" x2=\"0\" y2=\"120\" style=\"stroke-width:2\" />\n",
       "  <line x1=\"38\" y1=\"0\" x2=\"38\" y2=\"120\" style=\"stroke-width:2\" />\n",
       "\n",
       "  <!-- Colored Rectangle -->\n",
       "  <polygon points=\"0.000000,0.000000 38.596863,0.000000 38.596863,120.000000 0.000000,120.000000\" style=\"fill:#ECB172A0;stroke-width:0\"/>\n",
       "\n",
       "  <!-- Text -->\n",
       "  <text x=\"19.298432\" y=\"140.000000\" font-size=\"1.0rem\" font-weight=\"100\" text-anchor=\"middle\" >10</text>\n",
       "  <text x=\"58.596863\" y=\"60.000000\" font-size=\"1.0rem\" font-weight=\"100\" text-anchor=\"middle\" transform=\"rotate(-90,58.596863,60.000000)\">100</text>\n",
       "</svg>\n",
       "</td>\n",
       "</tr>\n",
       "</table>"
      ],
      "text/plain": [
       "dask.array<normal, shape=(100, 10), dtype=float64, chunksize=(10, 10)>"
      ]
     },
     "execution_count": 2,
     "metadata": {},
     "output_type": "execute_result"
    }
   ],
   "source": [
    "# Create random data\n",
    "import dask\n",
    "import dask.array as da\n",
    "from dask_ml.datasets import make_classification\n",
    "\n",
    "\n",
    "n, d = 100, 10\n",
    "\n",
    "X, y = make_classification(n_samples=n, n_features=d,\n",
    "                           chunks=n // 10, flip_y=0.2)\n",
    "X\n",
    "X = X.persist()\n",
    "X"
   ]
  },
  {
   "cell_type": "code",
   "execution_count": 3,
   "metadata": {},
   "outputs": [
    {
     "data": {
      "text/html": [
       "<table>\n",
       "<tr>\n",
       "<td>\n",
       "<table>  <thead>    <tr><td> </td><th> Array </th><th> Chunk </th></tr>\n",
       "  </thead>\n",
       "  <tbody>\n",
       "    <tr><th> Bytes </th><td> 7.20 kB </td> <td> 720 B </td></tr>\n",
       "    <tr><th> Shape </th><td> (90, 10) </td> <td> (9, 10) </td></tr>\n",
       "    <tr><th> Count </th><td> 70 Tasks </td><td> 10 Chunks </td></tr>\n",
       "    <tr><th> Type </th><td> float64 </td><td> numpy.ndarray </td></tr>\n",
       "  </tbody></table>\n",
       "</td>\n",
       "<td>\n",
       "<svg width=\"89\" height=\"170\" style=\"stroke:rgb(0,0,0);stroke-width:1\" >\n",
       "\n",
       "  <!-- Horizontal lines -->\n",
       "  <line x1=\"0\" y1=\"0\" x2=\"39\" y2=\"0\" style=\"stroke-width:2\" />\n",
       "  <line x1=\"0\" y1=\"12\" x2=\"39\" y2=\"12\" />\n",
       "  <line x1=\"0\" y1=\"24\" x2=\"39\" y2=\"24\" />\n",
       "  <line x1=\"0\" y1=\"36\" x2=\"39\" y2=\"36\" />\n",
       "  <line x1=\"0\" y1=\"48\" x2=\"39\" y2=\"48\" />\n",
       "  <line x1=\"0\" y1=\"60\" x2=\"39\" y2=\"60\" />\n",
       "  <line x1=\"0\" y1=\"72\" x2=\"39\" y2=\"72\" />\n",
       "  <line x1=\"0\" y1=\"84\" x2=\"39\" y2=\"84\" />\n",
       "  <line x1=\"0\" y1=\"96\" x2=\"39\" y2=\"96\" />\n",
       "  <line x1=\"0\" y1=\"108\" x2=\"39\" y2=\"108\" />\n",
       "  <line x1=\"0\" y1=\"120\" x2=\"39\" y2=\"120\" style=\"stroke-width:2\" />\n",
       "\n",
       "  <!-- Vertical lines -->\n",
       "  <line x1=\"0\" y1=\"0\" x2=\"0\" y2=\"120\" style=\"stroke-width:2\" />\n",
       "  <line x1=\"39\" y1=\"0\" x2=\"39\" y2=\"120\" style=\"stroke-width:2\" />\n",
       "\n",
       "  <!-- Colored Rectangle -->\n",
       "  <polygon points=\"0.000000,0.000000 39.172278,0.000000 39.172278,120.000000 0.000000,120.000000\" style=\"fill:#ECB172A0;stroke-width:0\"/>\n",
       "\n",
       "  <!-- Text -->\n",
       "  <text x=\"19.586139\" y=\"140.000000\" font-size=\"1.0rem\" font-weight=\"100\" text-anchor=\"middle\" >10</text>\n",
       "  <text x=\"59.172278\" y=\"60.000000\" font-size=\"1.0rem\" font-weight=\"100\" text-anchor=\"middle\" transform=\"rotate(0,59.172278,60.000000)\">90</text>\n",
       "</svg>\n",
       "</td>\n",
       "</tr>\n",
       "</table>"
      ],
      "text/plain": [
       "dask.array<concatenate, shape=(90, 10), dtype=float64, chunksize=(9, 10)>"
      ]
     },
     "execution_count": 3,
     "metadata": {},
     "output_type": "execute_result"
    }
   ],
   "source": [
    "# Split data\n",
    "from dask_ml.model_selection import train_test_split\n",
    "X_train, X_test, y_train, y_test = train_test_split(X, y)\n",
    "\n",
    "X_train"
   ]
  },
  {
   "cell_type": "code",
   "execution_count": 17,
   "metadata": {},
   "outputs": [
    {
     "name": "stdout",
     "output_type": "stream",
     "text": [
      "F1: 0.923\n"
     ]
    }
   ],
   "source": [
    "from dask_ml.linear_model import LogisticRegression\n",
    "from dask_ml.metrics import accuracy_score\n",
    "from sklearn.metrics import f1_score\n",
    "\n",
    "lr = LogisticRegression()\n",
    "lr.fit(X_train,y_train)\n",
    "\n",
    "y_pred = lr.predict(X_test)\n",
    "\n",
    "accuracy_score(y_true, y_pred)\n",
    "print('F1: %.3f' % f1_score(y_true=y_test, y_pred=y_pred))"
   ]
  },
  {
   "cell_type": "code",
   "execution_count": 21,
   "metadata": {},
   "outputs": [
    {
     "name": "stdout",
     "output_type": "stream",
     "text": [
      "GridSearchCV(cv=10, error_score='raise-deprecating',\n",
      "             estimator=Pipeline(memory=None,\n",
      "                                steps=[('standardscaler',\n",
      "                                        StandardScaler(copy=True,\n",
      "                                                       with_mean=True,\n",
      "                                                       with_std=True)),\n",
      "                                       ('svc',\n",
      "                                        SVC(C=1.0, cache_size=200,\n",
      "                                            class_weight=None, coef0=0.0,\n",
      "                                            decision_function_shape='ovr',\n",
      "                                            degree=3, gamma='auto_deprecated',\n",
      "                                            kernel='rbf', max_iter=-1,\n",
      "                                            probability=False, random_state=1,\n",
      "                                            shrink...True, tol=0.001,\n",
      "                                            verbose=False))],\n",
      "                                verbose=False),\n",
      "             iid='warn', n_jobs=-1,\n",
      "             param_grid=[{'svc__C': [0.1, 1.0, 10.0, 100.0, 1000.0, 10000],\n",
      "                          'svc__kernel': ['linear']},\n",
      "                         {'svc__C': [0.1, 1.0, 10.0, 100.0, 1000.0, 10000],\n",
      "                          'svc__gamma': [1e-05, 0.0001, 0.001, 0.01, 0.1],\n",
      "                          'svc__kernel': ['rbf']}],\n",
      "             pre_dispatch='2*n_jobs', refit=True, return_train_score=False,\n",
      "             scoring='accuracy', verbose=0)\n"
     ]
    }
   ],
   "source": [
    "from sklearn.pipeline import make_pipeline\n",
    "from sklearn.model_selection import GridSearchCV\n",
    "from sklearn.svm import SVC\n",
    "from sklearn.preprocessing import StandardScaler\n",
    "\n",
    "# Define the pipeline (with scaling and classification method):\n",
    "pipe_svc = make_pipeline(StandardScaler(), SVC(random_state=1))\n",
    "\n",
    "# Define ranges of parameter values:\n",
    "C_range  = [0.1, 1.0, 10.0, 100.0, 1000.0,10000] # For regularization parameter C (margin).\n",
    "G_range2 = [0.00001,0.0001, 0.001, 0.01, 0.1] # For scaling parameter gamma (in rbf-kernel - radius).\n",
    "\n",
    "# Define the grid structure:\n",
    "param_grid   = [{'svc__C': C_range, 'svc__kernel': ['linear']},\n",
    "                {'svc__C': C_range, 'svc__gamma': G_range2, 'svc__kernel': ['rbf']}]\n",
    "\n",
    "# Define grid seach on the hyperparameters (C, gamma & choice of kernel) \n",
    "# provided by the pipline, grid structure and specified CV strategy:\n",
    "gs = GridSearchCV(estimator=pipe_svc, \n",
    "                  param_grid=param_grid, \n",
    "                  scoring='accuracy', \n",
    "                  cv=10,\n",
    "                  n_jobs=-1)\n",
    "print(gs)"
   ]
  },
  {
   "cell_type": "code",
   "execution_count": 22,
   "metadata": {},
   "outputs": [
    {
     "name": "stdout",
     "output_type": "stream",
     "text": [
      "0.6777777777777778\n",
      "{'svc__C': 0.1, 'svc__kernel': 'linear'}\n"
     ]
    },
    {
     "name": "stderr",
     "output_type": "stream",
     "text": [
      "/Users/jorgenkongsro/anaconda3/lib/python3.7/site-packages/sklearn/model_selection/_search.py:813: DeprecationWarning: The default of the `iid` parameter will change from True to False in version 0.22 and will be removed in 0.24. This will change numeric results when test-set sizes are unequal.\n",
      "  DeprecationWarning)\n"
     ]
    }
   ],
   "source": [
    "gs = gs.fit(X_train, y_train)\n",
    "print(gs.best_score_)\n",
    "print(gs.best_params_)"
   ]
  },
  {
   "cell_type": "code",
   "execution_count": 23,
   "metadata": {},
   "outputs": [
    {
     "name": "stdout",
     "output_type": "stream",
     "text": [
      "Pipeline(memory=None,\n",
      "         steps=[('standardscaler',\n",
      "                 StandardScaler(copy=True, with_mean=True, with_std=True)),\n",
      "                ('svc',\n",
      "                 SVC(C=0.1, cache_size=200, class_weight=None, coef0=0.0,\n",
      "                     decision_function_shape='ovr', degree=3,\n",
      "                     gamma='auto_deprecated', kernel='linear', max_iter=-1,\n",
      "                     probability=False, random_state=1, shrinking=True,\n",
      "                     tol=0.001, verbose=False))],\n",
      "         verbose=False)\n",
      "Test accuracy: 0.800\n"
     ]
    }
   ],
   "source": [
    "clf = gs.best_estimator_\n",
    "print(clf)\n",
    "clf.fit(X_train, y_train)\n",
    "print('Test accuracy: %.3f' % clf.score(X_test, y_test))"
   ]
  },
  {
   "cell_type": "code",
   "execution_count": 26,
   "metadata": {},
   "outputs": [
    {
     "name": "stdout",
     "output_type": "stream",
     "text": [
      "Train accuracy: 0.911\n",
      "Test accuracy: 0.800\n",
      "[[3 0]\n",
      " [2 5]]\n"
     ]
    },
    {
     "data": {
      "image/png": "[encoded data removed]",
      "text/plain": [
       "<Figure size 180x180 with 1 Axes>"
      ]
     },
     "metadata": {
      "needs_background": "light"
     },
     "output_type": "display_data"
    },
    {
     "name": "stdout",
     "output_type": "stream",
     "text": [
      "[[47  1]\n",
      " [ 7 35]]\n"
     ]
    },
    {
     "data": {
      "image/png": "[encoded data removed]",
      "text/plain": [
       "<Figure size 180x180 with 1 Axes>"
      ]
     },
     "metadata": {
      "needs_background": "light"
     },
     "output_type": "display_data"
    }
   ],
   "source": [
    "# Confusion matrix for test and train\n",
    "\n",
    "from sklearn.metrics import confusion_matrix\n",
    "\n",
    "#pipe_svc.fit(X_train, y_train)\n",
    "#y_pred  = pipe_svc.predict(X_test)  # Predictins of test data \n",
    "#y_fit   = pipe_svc.predict(X_train) # Predictins (fitted values) of training data\n",
    "\n",
    "clf     = pipe_svc.fit(X_train, y_train)\n",
    "print('Train accuracy: %.3f' % clf.score(X_train, y_train))\n",
    "print('Test accuracy: %.3f' % clf.score(X_test, y_test))\n",
    "\n",
    "y_pred  = clf.predict(X_test)  # Predictions of test data \n",
    "y_fit   = clf.predict(X_train) # Predictions (fitted values) of training data\n",
    "\n",
    "confmat_test = confusion_matrix(y_true=y_test, y_pred=y_pred)\n",
    "print(confmat_test)\n",
    "\n",
    "fig, ax = plt.subplots(figsize=(2.5, 2.5))\n",
    "ax.matshow(confmat_test, cmap=plt.cm.Blues, alpha=0.3)\n",
    "for i in range(confmat_test.shape[0]):\n",
    "    for j in range(confmat_test.shape[1]):\n",
    "        ax.text(x=j, y=i, s=confmat_test[i, j], va='center', ha='center')\n",
    "\n",
    "plt.xlabel('Predicted label')\n",
    "plt.ylabel('True label')\n",
    "\n",
    "plt.tight_layout()\n",
    "#plt.savefig('images/06_09.png', dpi=300)\n",
    "plt.show()\n",
    "\n",
    "\n",
    "confmat_train = confusion_matrix(y_true=y_train, y_pred=y_fit)\n",
    "print(confmat_train)\n",
    "\n",
    "fig, ax = plt.subplots(figsize=(2.5, 2.5))\n",
    "ax.matshow(confmat_train, cmap=plt.cm.Blues, alpha=0.3)\n",
    "for i in range(confmat_train.shape[0]):\n",
    "    for j in range(confmat_train.shape[1]):\n",
    "        ax.text(x=j, y=i, s=confmat_train[i, j], va='center', ha='center')\n",
    "\n",
    "plt.xlabel('Predicted label')\n",
    "plt.ylabel('True label')\n",
    "\n",
    "plt.tight_layout()\n",
    "plt.show()"
   ]
  },
  {
   "cell_type": "code",
   "execution_count": 37,
   "metadata": {},
   "outputs": [
    {
     "data": {
      "text/plain": [
       "0.8571428571428572"
      ]
     },
     "execution_count": 37,
     "metadata": {},
     "output_type": "execute_result"
    }
   ],
   "source": [
    "from sklearn import metrics\n",
    "fpr, tpr, thresholds = metrics.roc_curve(y_test, y_pred)\n",
    "metrics.auc(fpr, tpr)\n"
   ]
  }
 ],
 "metadata": {
  "kernelspec": {
   "display_name": "Python 3",
   "language": "python",
   "name": "python3"
  },
  "language_info": {
   "codemirror_mode": {
    "name": "ipython",
    "version": 3
   },
   "file_extension": ".py",
   "mimetype": "text/x-python",
   "name": "python",
   "nbconvert_exporter": "python",
   "pygments_lexer": "ipython3",
   "version": "3.7.3"
  }
 },
 "nbformat": 4,
 "nbformat_minor": 4
}
